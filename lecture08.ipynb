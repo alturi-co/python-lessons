{
 "cells": [
  {
   "cell_type": "markdown",
   "metadata": {},
   "source": [
    "# Introduction to Python\n",
    "\n",
    "## Lecture 8: Files, Exceptions"
   ]
  },
  {
   "cell_type": "markdown",
   "metadata": {},
   "source": [
    "We have already discussed how to print to the terminal and read in user input. \n",
    "Another type of input/output is reading and writing from files. \n",
    "\n",
    "Programs are usually deterministic -- there are no unexpected events (except maybe because you created a bug in your code). \n",
    "\n",
    "Once a program depends on input, that is no longer guaranteed because input might be malformed or otherwise unexpected. It is also possible that files do not exist or cannot be accessed for other reasons. In those situations, Python programs raise **Exceptions**.\n",
    "\n",
    "A **file** is a collection of data that resides permanently on disk. It is independent of the program you're running. \n",
    "\n",
    "We often need to read and write data from files.\n",
    "\n",
    "A file has a **name** and a location in your **file system**. The location is called the **path** of the file. \n",
    "\n",
    "### File names\n",
    "On Mac and Unix systems, path names start with \"/\". This top-level contains a number of directory, such as \n",
    "\n",
    "/Users\n",
    "/bin\n",
    "/dev\n",
    "/etc\n",
    "/usr\n",
    "/var\n",
    "/tmp\n",
    "...\n",
    "\n",
    "These directories may live on the same physical disk, or they may be distributed over many disks or even live on a remote server. \n",
    "\n",
    "/Users/daniel/test.txt  refers to a text file test.txt in the directory /Users/daniel, which is the home directory for the user daniel.\n",
    "\n",
    "\n",
    "In windows, files are organized according to the disk partition they live on. \n",
    "\n",
    "C:\\ is the name of the main partion that contains system files. Windows filenames use \\ to separate components of a path instead of /.\n",
    "\n",
    "### File extensions\n",
    "Most files have an extension (for example .txt) indicating the type and purpose of the file. Some operating systems hide file extensions, even though the extension is really part of the file. To open a file in Python you need to specify its full name. \n",
    "\n",
    "To force your operating system to display file extensions follow these steps: \n",
    "\n",
    " * OSX/macOS: https://support.apple.com/kb/PH25381\n",
    " * Windows: http://kb.winzip.com/kb/entry/26/"
   ]
  },
  {
   "cell_type": "markdown",
   "metadata": {},
   "source": [
    "### Text vs. Binary Files\n",
    "\n",
    "**Text files** are human readable. These files are encoded like Python string (often Unicode / UTF-8). You can view the content of a text file in any text editor. Python programs (.py) are text files. \n",
    "\n",
    "**Binary files** use some special coding scheme, for example multimedia files (.jpg, .png, .mp3, .pdf, ...) but also text with formatting (.docx) and compressed data (.zip, .tgz). If you open these files in a text editor, you will only see gibberish. \n",
    "\n",
    "We will mostly be working with text file. Special modules exist to work with many binary files, so you rarely have to write your own code to read or write these files (unless you invent your own binary format). "
   ]
  },
  {
   "cell_type": "markdown",
   "metadata": {},
   "source": [
    "### Reading from files\n",
    "\n",
    "To read from a file you first need to open it using the `open` function. \n",
    "\n",
    "`open` returns a **file object** (aka a *pipe*) that allows you to read (and/or write) from this specific file."
   ]
  },
  {
   "cell_type": "code",
   "execution_count": 10,
   "metadata": {},
   "outputs": [],
   "source": [
    "test_file = open(\"test.txt\",'r')  # \"r\" means \"open for reading\" "
   ]
  },
  {
   "cell_type": "code",
   "execution_count": 11,
   "metadata": {},
   "outputs": [
    {
     "data": {
      "text/plain": [
       "<_io.TextIOWrapper name='test.txt' mode='r' encoding='UTF-8'>"
      ]
     },
     "execution_count": 11,
     "metadata": {},
     "output_type": "execute_result"
    }
   ],
   "source": [
    "test_file"
   ]
  },
  {
   "cell_type": "markdown",
   "metadata": {},
   "source": [
    "The `readline` method reads a single line, including the \\n at the end."
   ]
  },
  {
   "cell_type": "code",
   "execution_count": 12,
   "metadata": {
    "collapsed": true
   },
   "outputs": [],
   "source": [
    "line = test_file.readline()"
   ]
  },
  {
   "cell_type": "code",
   "execution_count": 13,
   "metadata": {},
   "outputs": [
    {
     "data": {
      "text/plain": [
       "'Hello World\\n'"
      ]
     },
     "execution_count": 13,
     "metadata": {},
     "output_type": "execute_result"
    }
   ],
   "source": [
    "line"
   ]
  },
  {
   "cell_type": "code",
   "execution_count": 14,
   "metadata": {},
   "outputs": [
    {
     "data": {
      "text/plain": [
       "'Hello World'"
      ]
     },
     "execution_count": 14,
     "metadata": {},
     "output_type": "execute_result"
    }
   ],
   "source": [
    "line.strip()"
   ]
  },
  {
   "cell_type": "code",
   "execution_count": 15,
   "metadata": {},
   "outputs": [
    {
     "data": {
      "text/plain": [
       "''"
      ]
     },
     "execution_count": 15,
     "metadata": {},
     "output_type": "execute_result"
    }
   ],
   "source": [
    "test_file.readline()"
   ]
  },
  {
   "cell_type": "code",
   "execution_count": 20,
   "metadata": {},
   "outputs": [
    {
     "data": {
      "text/plain": [
       "''"
      ]
     },
     "execution_count": 20,
     "metadata": {},
     "output_type": "execute_result"
    }
   ],
   "source": [
    "test_file.readline() #Once end of file is reached readline returns empty string"
   ]
  },
  {
   "cell_type": "code",
   "execution_count": 21,
   "metadata": {},
   "outputs": [
    {
     "data": {
      "text/plain": [
       "0"
      ]
     },
     "execution_count": 21,
     "metadata": {},
     "output_type": "execute_result"
    }
   ],
   "source": [
    "test_file.seek(0)"
   ]
  },
  {
   "cell_type": "code",
   "execution_count": 22,
   "metadata": {},
   "outputs": [
    {
     "data": {
      "text/plain": [
       "'Hello World\\n'"
      ]
     },
     "execution_count": 22,
     "metadata": {},
     "output_type": "execute_result"
    }
   ],
   "source": [
    "test_file.readline()"
   ]
  },
  {
   "cell_type": "markdown",
   "metadata": {},
   "source": [
    "`readline` returns an empty string if there are no more lines in the file."
   ]
  },
  {
   "cell_type": "code",
   "execution_count": null,
   "metadata": {
    "collapsed": true
   },
   "outputs": [],
   "source": [
    "test_file.readline() "
   ]
  },
  {
   "cell_type": "markdown",
   "metadata": {},
   "source": [
    "`close` closes the file object. Because only one program should be allowed to read or write from a file (why?), you should always close file objects when they are no longer needed. "
   ]
  },
  {
   "cell_type": "code",
   "execution_count": 23,
   "metadata": {
    "collapsed": true
   },
   "outputs": [],
   "source": [
    "test_file.close()"
   ]
  },
  {
   "cell_type": "code",
   "execution_count": 24,
   "metadata": {},
   "outputs": [
    {
     "ename": "ValueError",
     "evalue": "I/O operation on closed file.",
     "output_type": "error",
     "traceback": [
      "\u001b[0;31m---------------------------------------------------------------------------\u001b[0m",
      "\u001b[0;31mValueError\u001b[0m                                Traceback (most recent call last)",
      "\u001b[0;32m<ipython-input-24-dfe76fec32bd>\u001b[0m in \u001b[0;36m<module>\u001b[0;34m()\u001b[0m\n\u001b[0;32m----> 1\u001b[0;31m \u001b[0mtest_file\u001b[0m\u001b[0;34m.\u001b[0m\u001b[0mreadline\u001b[0m\u001b[0;34m(\u001b[0m\u001b[0;34m)\u001b[0m\u001b[0;34m\u001b[0m\u001b[0m\n\u001b[0m",
      "\u001b[0;31mValueError\u001b[0m: I/O operation on closed file."
     ]
    }
   ],
   "source": [
    "test_file.readline()"
   ]
  },
  {
   "cell_type": "markdown",
   "metadata": {},
   "source": [
    "You can also use a for loop to iterate through the lines of a file. "
   ]
  },
  {
   "cell_type": "code",
   "execution_count": 28,
   "metadata": {},
   "outputs": [
    {
     "name": "stdout",
     "output_type": "stream",
     "text": [
      "Hello World\n",
      "\n",
      "line 2\n",
      "\n",
      "line 3\n"
     ]
    }
   ],
   "source": [
    "test_file = open(\"test.txt\",'r')\n",
    "\n",
    "for line in test_file: \n",
    "    print(line.strip()) # .strip() removes whitespaces, including the \\n\n",
    "    \n",
    "test_file.close()    "
   ]
  },
  {
   "cell_type": "code",
   "execution_count": 27,
   "metadata": {},
   "outputs": [
    {
     "name": "stdout",
     "output_type": "stream",
     "text": [
      "Hello World\n",
      "line 2\n",
      "line 3\n"
     ]
    }
   ],
   "source": [
    "test_file = open(\"test.txt\",'r')\n",
    "line = test_file.readline()\n",
    "while line!='':\n",
    "    print(line.strip())\n",
    "    line = test_file.readline()\n"
   ]
  },
  {
   "cell_type": "markdown",
   "metadata": {},
   "source": [
    "One important features of file objects is that they are **buffered**. When you open a file, the operating system copies part of the file (or all of it) into main memory. Memory access is a lot faster than disk access."
   ]
  },
  {
   "cell_type": "markdown",
   "metadata": {},
   "source": [
    "### Writing to files\n",
    "\n",
    "To write to a file, we open it with the \"w\" option."
   ]
  },
  {
   "cell_type": "code",
   "execution_count": 33,
   "metadata": {
    "collapsed": true
   },
   "outputs": [],
   "source": [
    "test_file2 = open(\"test2.txt\",'w') # \"w\" means \"open for writing\""
   ]
  },
  {
   "cell_type": "markdown",
   "metadata": {},
   "source": [
    "**Warning**: opening a file this way creates a NEW file. If the file already exists, the old file is overwritten and its contents are lost. Python will NOT ask you for confirmation."
   ]
  },
  {
   "cell_type": "markdown",
   "metadata": {},
   "source": [
    "We can now direct the output of `print` statements to this new file. "
   ]
  },
  {
   "cell_type": "code",
   "execution_count": 34,
   "metadata": {
    "collapsed": true
   },
   "outputs": [],
   "source": [
    "print(\"lorem ipsum\", file=test_file2)"
   ]
  },
  {
   "cell_type": "code",
   "execution_count": 35,
   "metadata": {
    "collapsed": true
   },
   "outputs": [],
   "source": [
    "print(\"dolor sit amet\", file=test_file2)"
   ]
  },
  {
   "cell_type": "code",
   "execution_count": 36,
   "metadata": {
    "collapsed": true
   },
   "outputs": [],
   "source": [
    "test_file2.close()"
   ]
  },
  {
   "cell_type": "markdown",
   "metadata": {},
   "source": [
    "The reason why print works with files just like it works to print something on the console is \n",
    "that *the console is also a file object* from the point of view of Python. "
   ]
  },
  {
   "cell_type": "code",
   "execution_count": 37,
   "metadata": {},
   "outputs": [
    {
     "data": {
      "text/plain": [
       "<ipykernel.iostream.OutStream at 0x10b122208>"
      ]
     },
     "execution_count": 37,
     "metadata": {},
     "output_type": "execute_result"
    }
   ],
   "source": [
    "import sys\n",
    "sys.stdout"
   ]
  },
  {
   "cell_type": "code",
   "execution_count": 38,
   "metadata": {},
   "outputs": [
    {
     "name": "stdout",
     "output_type": "stream",
     "text": [
      "lorem ipsum\n"
     ]
    }
   ],
   "source": [
    "print(\"lorem ipsum\", file=sys.stdout)"
   ]
  },
  {
   "cell_type": "markdown",
   "metadata": {},
   "source": [
    "You can also use the `write` method to write to a file. "
   ]
  },
  {
   "cell_type": "code",
   "execution_count": 45,
   "metadata": {},
   "outputs": [
    {
     "data": {
      "text/plain": [
       "16"
      ]
     },
     "execution_count": 45,
     "metadata": {},
     "output_type": "execute_result"
    }
   ],
   "source": [
    "test_file2 = open(\"test2.txt\",'a')\n",
    "test_file2.write(\"consectetur adipiscing elit\\n\") # returns the number of characters written\n",
    "test_file2.write(\"some other line\\n\") # returns the number of characters written\n"
   ]
  },
  {
   "cell_type": "code",
   "execution_count": 46,
   "metadata": {
    "collapsed": true
   },
   "outputs": [],
   "source": [
    "test_file2.close()"
   ]
  },
  {
   "cell_type": "markdown",
   "metadata": {},
   "source": [
    "### Example 1: A word puzzle\n",
    "\n",
    "Goal: Find all English words which contain exactly the vowels A E I O U in that order. Ignore consonants. \n",
    "\n",
    "\n",
    "### Example 2: Analyzing temperature data\n",
    "source: https://www.ncdc.noaa.gov/cag/time-series/us/110/00/tavg/all/01/1895-2017.csv"
   ]
  },
  {
   "cell_type": "markdown",
   "metadata": {
    "collapsed": true
   },
   "source": [
    "# Exceptions\n",
    "\n",
    "We have already seen a few exceptions. For example: "
   ]
  },
  {
   "cell_type": "code",
   "execution_count": null,
   "metadata": {
    "collapsed": true
   },
   "outputs": [],
   "source": [
    "while = 27"
   ]
  },
  {
   "cell_type": "markdown",
   "metadata": {},
   "source": [
    "SyntaxErrors are examples of **compile time** exceptions. With these errors in place, your program will not even run.\n",
    "\n",
    "Other types of exceptions occur while your program is running. These are **runtime** exceptions."
   ]
  },
  {
   "cell_type": "code",
   "execution_count": null,
   "metadata": {
    "collapsed": true
   },
   "outputs": [],
   "source": [
    "print(lkwjer)"
   ]
  },
  {
   "cell_type": "code",
   "execution_count": null,
   "metadata": {
    "collapsed": true
   },
   "outputs": [],
   "source": [
    "27+\"hello\""
   ]
  },
  {
   "cell_type": "code",
   "execution_count": null,
   "metadata": {
    "collapsed": true
   },
   "outputs": [],
   "source": [
    "x = \"27.5\"\n",
    "int(x)"
   ]
  },
  {
   "cell_type": "markdown",
   "metadata": {},
   "source": [
    "A careful programmer should be able to avoid these problems in their code.\n",
    "\n",
    "Unfortunately,  when a program reads input from the user or from a file, exceptions may be out of our control."
   ]
  },
  {
   "cell_type": "code",
   "execution_count": null,
   "metadata": {
    "collapsed": true
   },
   "outputs": [],
   "source": [
    "f = open(\"kjhwerkj.txt\",'r')"
   ]
  },
  {
   "cell_type": "markdown",
   "metadata": {},
   "source": [
    "Rather than stopping the program, it might be better *anticipate* exceptions and *handle* them gracefully.\n",
    "\n",
    "The **try-except** construct allows you to capture and handle runtime errors."
   ]
  },
  {
   "cell_type": "code",
   "execution_count": null,
   "metadata": {
    "collapsed": true
   },
   "outputs": [],
   "source": [
    "try:\n",
    "    f = open(\"somefile.txt\",'r')\n",
    "    print(\"Opened file correctly.\")\n",
    "except FileNotFoundError: \n",
    "    print(\"Sorry, file did not exist.\")"
   ]
  },
  {
   "cell_type": "code",
   "execution_count": null,
   "metadata": {
    "collapsed": true
   },
   "outputs": [],
   "source": [
    "okay = False\n",
    "while not okay: \n",
    "    try: \n",
    "        x = input(\"please type an integer number:\")\n",
    "        x_int = int(x)\n",
    "        f = open(\"weljhwer.txt\",'r')\n",
    "        okay = True\n",
    "    except ValueError:\n",
    "        print(\"{} is not an integer. Try again.\".format(x)) \n",
    "    except FileNotFoundError: \n",
    "        print(\"File not found.\")"
   ]
  },
  {
   "cell_type": "code",
   "execution_count": null,
   "metadata": {
    "collapsed": true
   },
   "outputs": [],
   "source": []
  }
 ],
 "metadata": {
  "anaconda-cloud": {},
  "kernelspec": {
   "display_name": "Python 3",
   "language": "python",
   "name": "python3"
  },
  "language_info": {
   "codemirror_mode": {
    "name": "ipython",
    "version": 3
   },
   "file_extension": ".py",
   "mimetype": "text/x-python",
   "name": "python",
   "nbconvert_exporter": "python",
   "pygments_lexer": "ipython3",
   "version": "3.8.5"
  }
 },
 "nbformat": 4,
 "nbformat_minor": 2
}
